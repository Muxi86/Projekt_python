{
  "nbformat": 4,
  "nbformat_minor": 0,
  "metadata": {
    "colab": {
      "provenance": [],
      "include_colab_link": true
    },
    "kernelspec": {
      "name": "python3",
      "display_name": "Python 3"
    },
    "language_info": {
      "name": "python"
    }
  },
  "cells": [
    {
      "cell_type": "markdown",
      "metadata": {
        "id": "view-in-github",
        "colab_type": "text"
      },
      "source": [
        "<a href=\"https://colab.research.google.com/github/Muxi86/Projekt_python/blob/main/Scatter_(color%2C_style%2C_size)_Homework.ipynb\" target=\"_parent\"><img src=\"https://colab.research.google.com/assets/colab-badge.svg\" alt=\"Open In Colab\"/></a>"
      ]
    },
    {
      "cell_type": "markdown",
      "metadata": {
        "id": "vcZ4N5DFk4c3"
      },
      "source": [
        "# 1 Scatter (color, style, size)"
      ]
    },
    {
      "cell_type": "markdown",
      "source": [
        "# New Section"
      ],
      "metadata": {
        "id": "rSexIS90r_JY"
      }
    },
    {
      "cell_type": "code",
      "metadata": {
        "id": "qrdkkwXflQc2"
      },
      "source": [
        "# Adding Maplotlib module\n",
        "import matplotlib.pyplot as plt"
      ],
      "execution_count": null,
      "outputs": []
    },
    {
      "cell_type": "markdown",
      "metadata": {
        "id": "nTWb5zUBljiR"
      },
      "source": [
        "## 1. Plot one Data (Ma'lumotni tasvirlang)\n",
        "   \n",
        "   <b>Input</b>\n",
        "  <table align=\"left\"> \n",
        "  <tr>\n",
        "    <th><font size=\"3\">X</font></th>\n",
        "    <th><font size=\"3\">Y</font></th>\n",
        "  </tr>\n",
        "  <tr>\n",
        "    <td><font size=\"3\">4</font></td>\n",
        "    <td><font size=\"3\">9</font></td>\n",
        "  </tr>\n",
        "  </table>"
      ]
    },
    {
      "cell_type": "code",
      "metadata": {
        "colab": {
          "base_uri": "https://localhost:8080/",
          "height": 265
        },
        "id": "xZURY96Qk8wj",
        "outputId": "b64e5bd6-10be-45b2-d289-d015aa8bf374"
      },
      "source": [
        "def one_point(x,y):\n",
        "  '''\n",
        "  Parameters: x and y axis points;\n",
        "  '''\n",
        "  # Write the code here\n",
        "  plt.show()\n"
      ],
      "execution_count": null,
      "outputs": [
        {
          "output_type": "display_data",
          "data": {
            "image/png": "[encoded data removed]",
            "text/plain": [
              "<Figure size 432x288 with 1 Axes>"
            ]
          },
          "metadata": {
            "tags": [],
            "needs_background": "light"
          }
        }
      ]
    },
    {
      "cell_type": "markdown",
      "metadata": {
        "id": "aGZmp-zAmDph"
      },
      "source": [
        "## 2. Plot list of Data (Listdagi ma'lumotlarni tasvirlang)\n",
        "\n",
        "   <b>Input</b>\n",
        "  <table align=\"left\"> \n",
        "  <tr>\n",
        "    <th><font size=\"3\">X</font></th>\n",
        "    <th><font size=\"3\">Y</font></th>\n",
        "  </tr>\n",
        "  <tr>\n",
        "    <td><font size=\"3\">1</font></td>\n",
        "    <td><font size=\"3\">2</font></td>\n",
        "  </tr>\n",
        "   <tr>\n",
        "    <td><font size=\"3\">2</font></td>\n",
        "    <td><font size=\"3\">4</font></td>\n",
        "  </tr>\n",
        "    <tr>\n",
        "    <td><font size=\"3\">3</font></td>\n",
        "    <td><font size=\"3\">6</font></td>\n",
        "  </tr>\n",
        "      <tr>\n",
        "    <td><font size=\"3\">4</font></td>\n",
        "    <td><font size=\"3\">3</font></td>\n",
        "  </tr>\n",
        "      <tr>\n",
        "    <td><font size=\"3\">10</font></td>\n",
        "    <td><font size=\"3\">7</font></td>\n",
        "  </tr>\n",
        "  </table>"
      ]
    },
    {
      "cell_type": "code",
      "metadata": {
        "colab": {
          "base_uri": "https://localhost:8080/",
          "height": 265
        },
        "id": "k_VOqpI9mEpl",
        "outputId": "f8625a5d-a475-4ddf-afb1-bfeb8868e1a0"
      },
      "source": [
        "def list_points(x,y):\n",
        "  '''\n",
        "  Parameters: x and y axis points list;\n",
        "  '''\n",
        "  # Write the code here\n",
        "  plt.show()\n"
      ],
      "execution_count": null,
      "outputs": [
        {
          "output_type": "display_data",
          "data": {
            "image/png": "[encoded data removed]",
            "text/plain": [
              "<Figure size 432x288 with 1 Axes>"
            ]
          },
          "metadata": {
            "tags": [],
            "needs_background": "light"
          }
        }
      ]
    },
    {
      "cell_type": "markdown",
      "metadata": {
        "id": "Qa4iOwLdmgCx"
      },
      "source": [
        "## Marker color\n",
        "3. Change the color of points (Nuqtalar rangini o'zgartiring)\n",
        "\n",
        "   <b>Input</b>\n",
        "  <table align=\"left\"> \n",
        "  <tr>\n",
        "    <th align=\"center\"><font size=\"3\">X</font></th>\n",
        "    <th align=\"center\"><font size=\"3\">Y</font></th>\n",
        "    <th align=\"center\"><font size=\"3\">Color</font></th>\n",
        "  </tr>\n",
        "  <tr>\n",
        "    <td align=\"center\"><font size=\"3\">1</font></td>\n",
        "    <td align=\"center\"><font size=\"3\">2</font></td>\n",
        "    <td align=\"center\"><font size=\"3\" color='red'>red</font></td>\n",
        "  </tr>\n",
        "  <tr>\n",
        "    <td align=\"center\"><font size=\"3\">2</font></td>\n",
        "    <td align=\"center\"><font size=\"3\">4</font></td>\n",
        "    <td align=\"center\"><font size=\"3\" color='red'>red</font></td>\n",
        "  </tr>\n",
        "  <tr>\n",
        "    <td align=\"center\"><font size=\"3\">3</font></td>\n",
        "    <td align=\"center\"><font size=\"3\">6</font></td>\n",
        "    <td align=\"center\"><font size=\"3\" color='red'>red</font></td>\n",
        "  </tr>\n",
        "  <tr>\n",
        "    <td align=\"center\"><font size=\"3\">4</font></td>\n",
        "    <td align=\"center\"><font size=\"3\">3</font></td>\n",
        "    <td align=\"center\"><font size=\"3\" color='red'>red</font></td>\n",
        "  </tr>\n",
        "  <tr>\n",
        "    <td align=\"center\"><font size=\"3\">10</font></td>\n",
        "    <td align=\"center\"><font size=\"3\">7</font></td>\n",
        "    <td align=\"center\"><font size=\"3\" color='red'>red</font></td>\n",
        "  </tr>\n",
        "  </table>"
      ]
    },
    {
      "cell_type": "code",
      "metadata": {
        "colab": {
          "base_uri": "https://localhost:8080/",
          "height": 265
        },
        "id": "CWSnK8-OmhBt",
        "outputId": "c96507af-2472-4337-e3d0-e42f823cc445"
      },
      "source": [
        "def points_color(x,y,color):\n",
        "  '''\n",
        "  Parameters: x and y axis points list;\n",
        "  '''\n",
        "  \n",
        "  # Write the code here\n",
        "  plt.show()"
      ],
      "execution_count": null,
      "outputs": [
        {
          "output_type": "display_data",
          "data": {
            "image/png": "[encoded data removed]",
            "text/plain": [
              "<Figure size 432x288 with 1 Axes>"
            ]
          },
          "metadata": {
            "tags": [],
            "needs_background": "light"
          }
        }
      ]
    },
    {
      "cell_type": "markdown",
      "metadata": {
        "id": "kZwfS5YSngZb"
      },
      "source": [
        "## Marker style\n",
        "4. Change the marker style (Markerlar shaklini o'zgartiring)\n",
        "\n",
        "   <b>Input</b>\n",
        "  <table align=\"left\"> \n",
        "  <tr>\n",
        "    <th align=\"center\"><font size=\"3\">X</font></th>\n",
        "    <th align=\"center\"><font size=\"3\">Y</font></th>\n",
        "    <th align=\"center\"><font size=\"3\">Color</font></th>\n",
        "    <th align=\"center\"><font size=\"3\">Style</font></th>\n",
        "  </tr>\n",
        "  <tr>\n",
        "    <td align=\"center\"><font size=\"3\">1</font></td>\n",
        "    <td align=\"center\"><font size=\"3\">2</font></td>\n",
        "    <td align=\"center\"><font size=\"3\" color='magenta'>m</font></td>\n",
        "    <td align=\"center\"><font size=\"3\">*</font></td>\n",
        "  </tr>\n",
        "  <tr>\n",
        "    <td align=\"center\"><font size=\"3\">2</font></td>\n",
        "    <td align=\"center\"><font size=\"3\">4</font></td>\n",
        "    <td align=\"center\"><font size=\"3\" color='magenta'>m</font></td>\n",
        "    <td align=\"center\"><font size=\"3\">*</font></td>\n",
        "  </tr>\n",
        "  <tr>\n",
        "    <td align=\"center\"><font size=\"3\">3</font></td>\n",
        "    <td align=\"center\"><font size=\"3\">6</font></td>\n",
        "    <td align=\"center\"><font size=\"3\" color='magenta'>m</font></td>\n",
        "    <td align=\"center\"><font size=\"3\">*</font></td>\n",
        "  </tr>\n",
        "  <tr>\n",
        "    <td align=\"center\"><font size=\"3\">4</font></td>\n",
        "    <td align=\"center\"><font size=\"3\">3</font></td>\n",
        "    <td align=\"center\"><font size=\"3\" color='magenta'>m</font></td>\n",
        "    <td align=\"center\"><font size=\"3\">*</font></td>\n",
        "  </tr>\n",
        "  <tr>\n",
        "    <td align=\"center\"><font size=\"3\">10</font></td>\n",
        "    <td align=\"center\"><font size=\"3\">7</font></td>\n",
        "    <td align=\"center\"><font size=\"3\" color='magenta'>m</font></td>\n",
        "    <td align=\"center\"><font size=\"3\">*</font></td>\n",
        "  </tr>\n",
        "  </table>"
      ]
    },
    {
      "cell_type": "code",
      "metadata": {
        "colab": {
          "base_uri": "https://localhost:8080/",
          "height": 265
        },
        "id": "sfemOeM5nhRY",
        "outputId": "c184edac-05df-424b-ee27-ccd4ab40e062"
      },
      "source": [
        "def points_style(x,y,color,style):\n",
        "  '''\n",
        "  Parameters: x and y axis points list;\n",
        "  '''\n",
        "  # Write the code here\n",
        "  plt.show()"
      ],
      "execution_count": null,
      "outputs": [
        {
          "output_type": "display_data",
          "data": {
            "image/png": "[encoded data removed]",
            "text/plain": [
              "<Figure size 432x288 with 1 Axes>"
            ]
          },
          "metadata": {
            "tags": [],
            "needs_background": "light"
          }
        }
      ]
    },
    {
      "cell_type": "markdown",
      "metadata": {
        "id": "80xVyb2BpONT"
      },
      "source": [
        "## Marker size\n",
        "5. Change the size of the points (Nuqtalar hajmini o'zgartiring)\n",
        "\n",
        "   <b>Input</b>\n",
        "  <table align=\"left\"> \n",
        "  <tr>\n",
        "    <th align=\"center\"><font size=\"3\">X</font></th>\n",
        "    <th align=\"center\"><font size=\"3\">Y</font></th>\n",
        "    <th align=\"center\"><font size=\"3\">Size</font></th>\n",
        "  </tr>\n",
        "  <tr>\n",
        "    <td align=\"center\"><font size=\"3\">1</font></td>\n",
        "    <td align=\"center\"><font size=\"3\">2</font></td>\n",
        "    <td align=\"center\"><font size=\"3\">100</font></td>\n",
        "  </tr>\n",
        "  <tr>\n",
        "    <td align=\"center\"><font size=\"3\">2</font></td>\n",
        "    <td align=\"center\"><font size=\"3\">4</font></td>\n",
        "    <td align=\"center\"><font size=\"3\">100</font></td>\n",
        "  </tr>\n",
        "  <tr>\n",
        "    <td align=\"center\"><font size=\"3\">3</font></td>\n",
        "    <td align=\"center\"><font size=\"3\">6</font></td>\n",
        "    <td align=\"center\"><font size=\"3\">100</font></td>\n",
        "  </tr>\n",
        "  <tr>\n",
        "    <td align=\"center\"><font size=\"3\">4</font></td>\n",
        "    <td align=\"center\"><font size=\"3\">3</font></td>\n",
        "    <td align=\"center\"><font size=\"3\">100</font></td>\n",
        "  </tr>\n",
        "  <tr>\n",
        "    <td align=\"center\"><font size=\"3\">10</font></td>\n",
        "    <td align=\"center\"><font size=\"3\">7</font></td>\n",
        "    <td align=\"center\"><font size=\"3\">100</font></td>\n",
        "  </tr>\n",
        "  </table>"
      ]
    },
    {
      "cell_type": "code",
      "metadata": {
        "colab": {
          "base_uri": "https://localhost:8080/",
          "height": 265
        },
        "id": "47027sQjoeQM",
        "outputId": "af93df68-168d-454b-9f19-8a657f6ff734"
      },
      "source": [
        "def points_size(x,y,size):\n",
        "  '''\n",
        "  Parameters: x and y axis points list;\n",
        "  '''\n",
        "  # Write the code here\n",
        "  plt.show()"
      ],
      "execution_count": null,
      "outputs": [
        {
          "output_type": "display_data",
          "data": {
            "image/png": "[encoded data removed]",
            "text/plain": [
              "<Figure size 432x288 with 1 Axes>"
            ]
          },
          "metadata": {
            "tags": [],
            "needs_background": "light"
          }
        }
      ]
    },
    {
      "cell_type": "markdown",
      "metadata": {
        "id": "vgtJrORspQVy"
      },
      "source": [
        "## List of colors\n",
        "6. Plot different colored points (Turli xil ranglarni belgilang) \n",
        "\n",
        "   Input\n",
        "  <table align=\"left\"> \n",
        "  <tr>\n",
        "    <th align=\"center\"><font size=\"3\">X</font></th>\n",
        "    <th align=\"center\"><font size=\"3\">Y</font></th>\n",
        "    <th align=\"center\"><font size=\"3\">Color</font></th>\n",
        "  </tr>\n",
        "  <tr>\n",
        "    <td align=\"center\"><font size=\"3\">1</font></td>\n",
        "    <td align=\"center\"><font size=\"3\">2</font></td>\n",
        "    <td align=\"center\"><font size=\"3\" color='cyan'>c</font></td>\n",
        "  </tr>\n",
        "  <tr>\n",
        "    <td align=\"center\"><font size=\"3\">2</font></td>\n",
        "    <td align=\"center\"><font size=\"3\">4</font></td>\n",
        "    <td align=\"center\"><font size=\"3\" color='magenta'>m</font></td>\n",
        "  </tr>\n",
        "  <tr>\n",
        "    <td align=\"center\"><font size=\"3\">3</font></td>\n",
        "    <td align=\"center\"><font size=\"3\">6</font></td>\n",
        "    <td align=\"center\"><font size=\"3\" color='red'>r</font></td>\n",
        "  </tr>\n",
        "  <tr>\n",
        "    <td align=\"center\"><font size=\"3\">4</font></td>\n",
        "    <td align=\"center\"><font size=\"3\">3</font></td>\n",
        "    <td align=\"center\"><font size=\"3\" color='yellow'>y</font></td>\n",
        "  </tr>\n",
        "  <tr>\n",
        "    <td align=\"center\"><font size=\"3\">10</font></td>\n",
        "    <td align=\"center\"><font size=\"3\">7</font></td>\n",
        "    <td align=\"center\"><font size=\"3\" color='blue'>b</font></td>\n",
        "  </tr>\n",
        "  </table>"
      ]
    },
    {
      "cell_type": "code",
      "metadata": {
        "colab": {
          "base_uri": "https://localhost:8080/",
          "height": 265
        },
        "id": "48gaNv3spRJ1",
        "outputId": "afec7191-5aab-4647-a291-9e8bdba14af1"
      },
      "source": [
        "def each_point_color(x,y,color):\n",
        "  '''\n",
        "  Parameters: x and y axis points list;\n",
        "  '''\n",
        "  # Write the code here\n",
        "  plt.show()"
      ],
      "execution_count": null,
      "outputs": [
        {
          "output_type": "display_data",
          "data": {
            "image/png": "[encoded data removed]",
            "text/plain": [
              "<Figure size 432x288 with 1 Axes>"
            ]
          },
          "metadata": {
            "tags": [],
            "needs_background": "light"
          }
        }
      ]
    },
    {
      "cell_type": "markdown",
      "metadata": {
        "id": "7K_ZpRErp9eb"
      },
      "source": [
        "## List of marker style\n",
        "7. Plot different styled points (Nuqtalarni turli shaklda tasvirlang)\n",
        "\n",
        "   <b>Input</b>\n",
        "  <table align=\"left\"> \n",
        "  <tr>\n",
        "    <th align=\"center\"><font size=\"3\">X</font></th>\n",
        "    <th align=\"center\"><font size=\"3\">Y</font></th>\n",
        "    <th align=\"center\"><font size=\"3\">Color</font></th>\n",
        "    <th align=\"center\"><font size=\"3\">Style</font></th>\n",
        "  </tr>\n",
        "  <tr>\n",
        "    <td align=\"center\"><font size=\"3\">1</font></td>\n",
        "    <td align=\"center\"><font size=\"3\">2</font></td>\n",
        "    <td align=\"center\"><font size=\"3\" color='magenta'>m</font></td>\n",
        "    <td align=\"center\"><font size=\"3\">3</font></td>\n",
        "  </tr>\n",
        "  <tr>\n",
        "    <td align=\"center\"><font size=\"3\">2</font></td>\n",
        "    <td align=\"center\"><font size=\"3\">4</font></td>\n",
        "    <td align=\"center\"><font size=\"3\" color='magenta'>m</font></td>\n",
        "    <td align=\"center\"><font size=\"3\">p</font></td>\n",
        "  </tr>\n",
        "  <tr>\n",
        "    <td align=\"center\"><font size=\"3\">3</font></td>\n",
        "    <td align=\"center\"><font size=\"3\">6</font></td>\n",
        "    <td align=\"center\"><font size=\"3\" color='magenta'>m</font></td>\n",
        "    <td align=\"center\"><font size=\"3\">s</font></td>\n",
        "  </tr>\n",
        "  <tr>\n",
        "    <td align=\"center\"><font size=\"3\">4</font></td>\n",
        "    <td align=\"center\"><font size=\"3\">3</font></td>\n",
        "    <td align=\"center\"><font size=\"3\" color='magenta'>m</font></td>\n",
        "    <td align=\"center\"><font size=\"3\">v</font></td>\n",
        "  </tr>\n",
        "  <tr>\n",
        "    <td align=\"center\"><font size=\"3\">10</font></td>\n",
        "    <td align=\"center\"><font size=\"3\">7</font></td>\n",
        "    <td align=\"center\"><font size=\"3\" color='magenta'>m</font></td>\n",
        "    <td align=\"center\"><font size=\"3\">*</font></td>\n",
        "  </tr>\n",
        "\n",
        "  </table>"
      ]
    },
    {
      "cell_type": "code",
      "metadata": {
        "colab": {
          "base_uri": "https://localhost:8080/",
          "height": 265
        },
        "id": "QYhaVf2Gp-dJ",
        "outputId": "61c7ff44-78bb-4a3c-92e7-5546dc56314b"
      },
      "source": [
        "def each_point_style(x,y,color,style):\n",
        "  '''\n",
        "  Parameters: x and y axis points list;\n",
        "  '''\n",
        "  # Write the code here\n",
        "  plt.show()"
      ],
      "execution_count": null,
      "outputs": [
        {
          "output_type": "display_data",
          "data": {
            "image/png": "[encoded data removed]",
            "text/plain": [
              "<Figure size 432x288 with 1 Axes>"
            ]
          },
          "metadata": {
            "tags": [],
            "needs_background": "light"
          }
        }
      ]
    },
    {
      "cell_type": "markdown",
      "metadata": {
        "id": "-KH5DGa8sMTR"
      },
      "source": [
        "## Customize style and size\n",
        "8.  Plot points with different style and size (Turli xil o'lchamdagi nuqtalarni tasvirlang)\n",
        "\n",
        "  <b>Input</b>\n",
        "  <table align=\"left\"> \n",
        "  <tr>\n",
        "    <th align=\"center\"><font size=\"3\">X</font></th>\n",
        "    <th align=\"center\"><font size=\"3\">Y</font></th>\n",
        "    <th align=\"center\"><font size=\"3\">Color</font></th>\n",
        "    <th align=\"center\"><font size=\"3\">Style</font></th>\n",
        "    <th align=\"center\"><font size=\"3\">Size</font></th>\n",
        "  </tr>\n",
        "  <tr>\n",
        "    <td align=\"center\"><font size=\"3\">1</font></td>\n",
        "    <td align=\"center\"><font size=\"3\">2</font></td>\n",
        "    <td align=\"center\"><font size=\"3\" color='magenta'>m</font></td>\n",
        "    <td align=\"center\"><font size=\"3\">3</font></td>\n",
        "    <td align=\"center\"><font size=\"3\">100</font></td>\n",
        "  </tr>\n",
        "  <tr>\n",
        "    <td align=\"center\"><font size=\"3\">2</font></td>\n",
        "    <td align=\"center\"><font size=\"3\">4</font></td>\n",
        "    <td align=\"center\"><font size=\"3\" color='magenta'>m</font></td>\n",
        "    <td align=\"center\"><font size=\"3\">p</font></td>\n",
        "    <td align=\"center\"><font size=\"3\">150</font></td>\n",
        "  </tr>\n",
        "  <tr>\n",
        "    <td align=\"center\"><font size=\"3\">3</font></td>\n",
        "    <td align=\"center\"><font size=\"3\">6</font></td>\n",
        "    <td align=\"center\"><font size=\"3\" color='magenta'>m</font></td>\n",
        "    <td align=\"center\"><font size=\"3\">s</font></td>\n",
        "    <td align=\"center\"><font size=\"3\">120</font></td>\n",
        "  </tr>\n",
        "  <tr>\n",
        "    <td align=\"center\"><font size=\"3\">4</font></td>\n",
        "    <td align=\"center\"><font size=\"3\">3</font></td>\n",
        "    <td align=\"center\"><font size=\"3\" color='magenta'>m</font></td>\n",
        "    <td align=\"center\"><font size=\"3\">v</font></td>\n",
        "    <td align=\"center\"><font size=\"3\">110</font></td>\n",
        "  </tr>\n",
        "  <tr>\n",
        "    <td align=\"center\"><font size=\"3\">10</font></td>\n",
        "    <td align=\"center\"><font size=\"3\">7</font></td>\n",
        "    <td align=\"center\"><font size=\"3\" color='magenta'>m</font></td>\n",
        "    <td align=\"center\"><font size=\"3\">*</font></td>\n",
        "    <td align=\"center\"><font size=\"3\">90</font></td>\n",
        "  </tr>\n",
        "\n",
        "  </table>"
      ]
    },
    {
      "cell_type": "code",
      "metadata": {
        "colab": {
          "base_uri": "https://localhost:8080/",
          "height": 265
        },
        "id": "zHACRfqbsNlr",
        "outputId": "2e845da4-cfc4-4ddf-8a05-16ebc125d9ad"
      },
      "source": [
        "def each_point_style_and_size(x,y,color,style,size):\n",
        "  '''\n",
        "  Parameters: x and y axis points list;\n",
        "  '''\n",
        "  # Write the code here\n",
        "  plt.show()"
      ],
      "execution_count": null,
      "outputs": [
        {
          "output_type": "display_data",
          "data": {
            "image/png": "[encoded data removed]",
            "text/plain": [
              "<Figure size 432x288 with 1 Axes>"
            ]
          },
          "metadata": {
            "tags": [],
            "needs_background": "light"
          }
        }
      ]
    },
    {
      "cell_type": "markdown",
      "metadata": {
        "id": "M4fj3JiJtZrm"
      },
      "source": [
        "## Customize of color, style and size\n",
        "9.  Plot points with different color, style, and size (Turli xil o'lcham, rang va shakldagi nuqtalarni tasvirlang)\n",
        "\n",
        "   **Input**\n",
        "  <table align=\"left\"> \n",
        "  <tr>\n",
        "    <th align=\"center\"><font size=\"3\">X</font></th>\n",
        "    <th align=\"center\"><font size=\"3\">Y</font></th>\n",
        "    <th align=\"center\"><font size=\"3\">Color</font></th>\n",
        "    <th align=\"center\"><font size=\"3\">Style</font></th>\n",
        "    <th align=\"center\"><font size=\"3\">Size</font></th>\n",
        "  </tr>\n",
        "  <tr>\n",
        "    <td align=\"center\"><font size=\"3\">1</font></td>\n",
        "    <td align=\"center\"><font size=\"3\">2</font></td>\n",
        "    <td align=\"center\"><font size=\"3\" color='blue'>b</font></td>\n",
        "    <td align=\"center\"><font size=\"3\">3</font></td>\n",
        "    <td align=\"center\"><font size=\"3\">100</font></td>\n",
        "  </tr>\n",
        "  <tr>\n",
        "    <td align=\"center\"><font size=\"3\">2</font></td>\n",
        "    <td align=\"center\"><font size=\"3\">4</font></td>\n",
        "    <td align=\"center\"><font size=\"3\" color='yellow'>y</font></td>\n",
        "    <td align=\"center\"><font size=\"3\">p</font></td>\n",
        "    <td align=\"center\"><font size=\"3\">150</font></td>\n",
        "  </tr>\n",
        "  <tr>\n",
        "    <td align=\"center\"><font size=\"3\">3</font></td>\n",
        "    <td align=\"center\"><font size=\"3\">6</font></td>\n",
        "    <td align=\"center\"><font size=\"3\" color='green'>g</font></td>\n",
        "    <td align=\"center\"><font size=\"3\">s</font></td>\n",
        "    <td align=\"center\"><font size=\"3\">120</font></td>\n",
        "  </tr>\n",
        "  <tr>\n",
        "    <td align=\"center\"><font size=\"3\">4</font></td>\n",
        "    <td align=\"center\"><font size=\"3\">3</font></td>\n",
        "    <td align=\"center\"><font size=\"3\" color='red'>r</font></td>\n",
        "    <td align=\"center\"><font size=\"3\">v</font></td>\n",
        "    <td align=\"center\"><font size=\"3\">110</font></td>\n",
        "  </tr>\n",
        "  <tr>\n",
        "    <td align=\"center\"><font size=\"3\">10</font></td>\n",
        "    <td align=\"center\"><font size=\"3\">7</font></td>\n",
        "    <td align=\"center\"><font size=\"3\" color='magenta'>m</font></td>\n",
        "    <td align=\"center\"><font size=\"3\">*</font></td>\n",
        "    <td align=\"center\"><font size=\"3\">90</font></td>\n",
        "  </tr>\n",
        "    \n",
        "  </tr>\n",
        "  </table>"
      ]
    },
    {
      "cell_type": "code",
      "metadata": {
        "colab": {
          "base_uri": "https://localhost:8080/",
          "height": 265
        },
        "id": "435B2ofCtafL",
        "outputId": "311cccc6-2a85-4b79-bc09-3c326fb96197"
      },
      "source": [
        "def each_point_style_size_color(x,y,color,style,size):\n",
        "  '''\n",
        "  Parameters: x and y axis points list;\n",
        "  '''\n",
        "  # Write the code here\n",
        "  plt.show()"
      ],
      "execution_count": null,
      "outputs": [
        {
          "output_type": "display_data",
          "data": {
            "image/png": "[encoded data removed]",
            "text/plain": [
              "<Figure size 432x288 with 1 Axes>"
            ]
          },
          "metadata": {
            "tags": [],
            "needs_background": "light"
          }
        }
      ]
    }
  ]
}